{
    "cells": [
        {
            "cell_type": "markdown",
            "metadata": {},
            "source": "\n"
        },
        {
            "cell_type": "code",
            "execution_count": null,
            "metadata": {},
            "outputs": [],
            "source": [
                "knitr::opts_chunk$set(echo = TRUE)\n",
                "\n"
            ]
        },
        {
            "cell_type": "markdown",
            "metadata": {},
            "source": [
                "## Hamiltonian Monte carlo\n",
                "\n"
            ]
        },
        {
            "cell_type": "code",
            "execution_count": null,
            "metadata": {},
            "outputs": [],
            "source": [
                "# Log-posterior\n",
                "logpost <- function(theta) {\n",
                "  - 0.5 * theta^2\n",
                "}\n",
                "\n",
                "# Gradient of the logposterior\n",
                "lgradient <- function(theta) {\n",
                "  - theta\n",
                "}\n"
            ]
        },
        {
            "cell_type": "markdown",
            "metadata": {},
            "source": [
                "## The Leapfrog method\n",
                "\n"
            ]
        },
        {
            "cell_type": "code",
            "execution_count": null,
            "metadata": {},
            "outputs": [],
            "source": [
                "psi <- rnorm(1) # Auxiliary variables\n",
                "logK <- P^2 / 2 # Kinetic energy at the beginning of the trajectory\n",
                "    \n",
                "    # Make a half step for momentum at the beginning\n",
                "    theta_new <- theta\n",
                "    Pnew <- P + epsilon * lgradient(theta) / 2\n",
                "    \n",
                "    # Alternate full steps for position and momentum\n",
                "    for (l in 1:L) {\n",
                "      # Make a full step for the position\n",
                "      theta_new <- theta_new + epsilon * Pnew\n",
                "      # Make a full step for the momentum, except at end of trajectory\n",
                "      if (l != L) Pnew <- Pnew + epsilon * lgradient(theta_new)\n",
                "    }\n",
                "    \n",
                "    # Make a half step for momentum at the end.\n",
                "    Pnew <- Pnew + epsilon * lgradient(theta_new) / 2\n",
                "\n",
                "    # Negate momentum at end of trajectory to make the proposal symmetric\n",
                "    Pnew <- - Pnew\n",
                "\n",
                "    # Evaluate potential and kinetic energies at the end of trajectory\n",
                "    logpnew <- logpost(theta_new)\n",
                "    logKnew <- Pnew^2 / 2 #sum(Pnew^2) / 2\n"
            ]
        },
        {
            "cell_type": "markdown",
            "metadata": {},
            "source": [
                "\n",
                "\n"
            ]
        },
        {
            "cell_type": "code",
            "execution_count": null,
            "metadata": {},
            "outputs": [],
            "source": [
                "HMC <- function(R, burn_in, epsilon, L) {\n",
                "  \n",
                "  out <- numeric(R)\n",
                "  theta <- 0\n",
                "  logp <- logpost(theta) # Initial log-posterior\n",
                "\n",
                "  # Starting the Gibbs sampling\n",
                "  for (r in 1:(burn_in + R)) {\n",
                "    \n",
                "    P <- rnorm(1) # Auxiliary variables\n",
                "    logK <- P^2 / 2 # Kinetic energy at the beginning of the trajectory\n",
                "    \n",
                "    # Make a half step for momentum at the beginning\n",
                "    theta_new <- theta\n",
                "    Pnew <- P + epsilon * lgradient(theta) / 2\n",
                "    \n",
                "    # Alternate full steps for position and momentum\n",
                "    for (l in 1:L) {\n",
                "      # Make a full step for the position\n",
                "      theta_new <- theta_new + epsilon * Pnew\n",
                "      # Make a full step for the momentum, except at end of trajectory\n",
                "      if (l != L) Pnew <- Pnew + epsilon * lgradient(theta_new)\n",
                "    }\n",
                "    \n",
                "    # Make a half step for momentum at the end.\n",
                "    Pnew <- Pnew + epsilon * lgradient(theta_new) / 2\n",
                "\n",
                "    # Negate momentum at end of trajectory to make the proposal symmetric\n",
                "    Pnew <- - Pnew\n",
                "\n",
                "    # Evaluate potential and kinetic energies at the end of trajectory\n",
                "    logpnew <- logpost(theta_new)\n",
                "    logKnew <- Pnew^2 / 2 #sum(Pnew^2) / 2\n",
                "    \n",
                "    # Accept or reject the state at end of trajectory, returning either\n",
                "    # the position at the end of the trajectory or the initial position\n",
                "    if (runif(1) < exp(logpnew - logp + logK - logKnew)) {\n",
                "      logp <- logpnew\n",
                "      theta <- theta_new # Accept the value\n",
                "    }\n",
                "\n",
                "    # Store the values after the burn-in period\n",
                "    if (r > burn_in) {\n",
                "      out[r - burn_in] <- theta\n",
                "    }\n",
                "  }\n",
                "  out\n",
                "}\n"
            ]
        },
        {
            "cell_type": "markdown",
            "metadata": {},
            "source": "\n"
        },
        {
            "cell_type": "code",
            "execution_count": null,
            "metadata": {},
            "outputs": [],
            "source": [
                "hist(HMC(R = 10^4, burn_in = 100, epsilon = 0.1, L = 10), freq=F, breaks=100); curve(dnorm(x), add=T)\n",
                "\n"
            ]
        },
        {
            "cell_type": "markdown",
            "metadata": {},
            "source": "\n"
        }
    ],
    "metadata": {
        "anaconda-cloud": "",
        "kernelspec": {
            "display_name": "R",
            "langauge": "R",
            "name": "ir"
        },
        "language_info": {
            "codemirror_mode": "r",
            "file_extension": ".r",
            "mimetype": "text/x-r-source",
            "name": "R",
            "pygments_lexer": "r",
            "version": "3.4.1"
        }
    },
    "nbformat": 4,
    "nbformat_minor": 1
}
