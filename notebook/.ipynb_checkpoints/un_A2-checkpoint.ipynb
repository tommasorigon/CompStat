{
 "cells": [
  {
   "cell_type": "markdown",
   "metadata": {
    "colab_type": "text",
    "id": "view-in-github"
   },
   "source": [
    "<a href=\"https://colab.research.google.com/github/tommasorigon/CompStat/blob/main/notebook/un_A2.ipynb\" target=\"_parent\"><img src=\"https://colab.research.google.com/assets/colab-badge.svg\" alt=\"Open In Colab\"/></a>"
   ]
  },
  {
   "cell_type": "markdown",
   "metadata": {
    "id": "tqFDBv7JbSAZ"
   },
   "source": [
    "\n",
    "# Unit A.2 - Rcpp & RcppArmadillo"
   ]
  },
  {
   "cell_type": "markdown",
   "metadata": {
    "id": "UOdIsYx9bSAe"
   },
   "source": [
    "## Documentation\n",
    "\n",
    "### Rcpp\n",
    "\n",
    "The `Rcpp` **R** package simplifies the interface between **R** and C++. The main advantage is that C++ code is usually faster than **R**, especially in non-vectorized settings. \n",
    "\n",
    "The official website of `Rcpp` is [http://www.rcpp.org](http://www.rcpp.org), but you can find a large amount of tutorials and examples online. An important and useful read is\n",
    "\n",
    "- Eddelbuettel, D. and Balamuta, J. J. (2018). Extending R with C++: A Brief Introduction to Rcpp. *The American Statistician*, **72**(1), 28--36.\n",
    "\n",
    "This paper is highly recommended as it provides further documentation, examples and discusses the \"philosophy\" behind `Rcpp`.\n",
    "\n",
    "### RcppArmadillo\n",
    "\n",
    "The package `RcppArmadillo` is an extension of `Rcpp` designed for highly efficient **linear algebra**. \n",
    "\n",
    "As described in the official documentation (http://arma.sourceforge.net), Armadillo is a \"high quality linear algebra library (matrix maths) for the C++ language, aiming towards a good balance between speed and ease of use\".\n",
    "\n",
    "The syntax is deliberately similar to that of Matlab and **R**.\n",
    "\n",
    "## Installation\n",
    "\n",
    "In first place, you **need a C++ compiler**. For `RcppArmadillo` you will also need a **Fortran compiler**.\n",
    "\n",
    "If you are a **Windows user**, you just need to install [Rtools](https://cran.r-project.org/bin/windows/Rtools/), as described here:\n",
    "\n",
    "- https://thecoatlessprofessor.com/programming/cpp/installing-rtools-for-compiled-code-via-rcpp/\n",
    "\n",
    "If you are a **Mac Os user**, unfortunately the procedure is slightly more complicate. You can refer to:\n",
    "\n",
    "- https://thecoatlessprofessor.com/programming/cpp/r-compiler-tools-for-rcpp-on-macos/\n",
    "\n",
    "If you are a **Linux user**, you probably already know what to do. In any event, this is the easieast case as you just need to run the following commands\n"
   ]
  },
  {
   "cell_type": "code",
   "execution_count": null,
   "metadata": {
    "id": "xBSHrB7pbSAf"
   },
   "outputs": [],
   "source": [
    "# RHEL/CentOS\n",
    "sudo yum update\n",
    "sudo yum install R\n",
    "\n",
    "# Ubuntu\n",
    "sudo apt-get update\n",
    "sudo apt-get install r-base r-base-dev"
   ]
  },
  {
   "cell_type": "markdown",
   "metadata": {
    "id": "PMQm_k1ebSAg"
   },
   "source": [
    "Finally, the **R** packages `Rcpp` and `RcppArmadillo` can be installed in the usual manner, i.e. using `install.packages(\"Rcpp\")` and `install.packages(\"RcppArmadillo\")`. \n",
    "\n",
    "## Basic examples\n",
    "\n",
    "### Verifying the installation and basic usage\n",
    "\n",
    "In first place, let us load the **R** packages into memory.\n"
   ]
  },
  {
   "cell_type": "code",
   "execution_count": 2,
   "metadata": {},
   "outputs": [
    {
     "ename": "ERROR",
     "evalue": "Error in library(RcppArmadillo): there is no package called ‘RcppArmadillo’\n",
     "output_type": "error",
     "traceback": [
      "Error in library(RcppArmadillo): there is no package called ‘RcppArmadillo’\nTraceback:\n",
      "1. library(RcppArmadillo)"
     ]
    }
   ],
   "source": [
    "library(Rcpp)\n",
    "library(RcppArmadillo)"
   ]
  },
  {
   "cell_type": "markdown",
   "metadata": {
    "id": "4ivqY6wZbSAh"
   },
   "source": [
    "In order to write a C++ function, we need to perform the following step\n",
    "\n",
    "1. Create an empty file, say `file.cpp`, which will contain the C++ code. If you are using **Rstudio**, you can create it from File --> New file. \n",
    "\n",
    "2. Save the C++ file and **compile it** using the `sourceCpp` function of the `Rcpp` package. \n",
    "\n",
    "3. Use the functions contained in the C++ file within **R**, as usual.\n",
    "\n",
    "We create a `sum.cpp` file including the function `arma_sum`, which computes the sum of the elements of a vector. You can include multiple functions into a single file, but only those preceeded by `// [[Rcpp::export]]` will be available within **R**. \n",
    "\n",
    "The C++ code of the `sum.cpp` file is given in the following. Note that we need to **import the Rcpp and RcppArmadillo libraries**.\n"
   ]
  },
  {
   "cell_type": "code",
   "execution_count": 2,
   "metadata": {
    "id": "rWfetI_YbSAh"
   },
   "outputs": [
    {
     "ename": "ERROR",
     "evalue": "Error in parse(text = x, srcfile = src): <text>:2:1: unexpected '/'\n1: #include <RcppArmadillo.h>\n2: /\n   ^\n",
     "output_type": "error",
     "traceback": [
      "Error in parse(text = x, srcfile = src): <text>:2:1: unexpected '/'\n1: #include <RcppArmadillo.h>\n2: /\n   ^\nTraceback:\n"
     ]
    }
   ],
   "source": [
    "#include <RcppArmadillo.h>\n",
    "// [[Rcpp::depends(RcppArmadillo)]]\n",
    "using namespace Rcpp;\n",
    "using namespace arma;\n",
    "\n",
    "// [[Rcpp::export]] \n",
    "double arma_sum(vec x){\n",
    "  double sum = 0;\n",
    "  int n = x.n_elem; // Length of the vector x\n",
    "  for(int i=0; i < n; i++){\n",
    "    sum += x[i]; // Shorthand for: sum = sum + x[i];\n",
    "  }\n",
    "  return(sum);\n",
    "}"
   ]
  },
  {
   "cell_type": "markdown",
   "metadata": {
    "id": "k_LzuBCZbSAi"
   },
   "source": [
    "Then, we can **compile** the `sum.cpp` file with the following command. If you are using **RStudio**, you can also click on the **source button**.\n",
    "\n"
   ]
  },
  {
   "cell_type": "code",
   "execution_count": 19,
   "metadata": {
    "id": "qzoe9c2CbSAi"
   },
   "outputs": [
    {
     "ename": "ERROR",
     "evalue": "Error: Package 'RcppArmadillo' referenced from Rcpp::depends in source file sum.cpp is not available.\n",
     "output_type": "error",
     "traceback": [
      "Error: Package 'RcppArmadillo' referenced from Rcpp::depends in source file sum.cpp is not available.\nTraceback:\n",
      "1. sourceCpp(\"../cpp/sum.cpp\")",
      "2. .validatePackages(depends, context$cppSourceFilename)",
      "3. stop(paste(\"Package '\", unavailable[[1]], \"' referenced from \", \n .     \"Rcpp::depends in source file \", sourceFilename, \" is not available.\", \n .     sep = \"\"), call. = FALSE)"
     ]
    }
   ],
   "source": [
    "# In this case the file is saved in a different folder.\n",
    "# Obviously, you need to change the PATH as needed\n",
    "sourceCpp(\"../cpp/sum.cpp\")"
   ]
  },
  {
   "cell_type": "markdown",
   "metadata": {
    "id": "5gdUBxzYbSAi"
   },
   "source": [
    "We can finally test the `arma_sum` function and compare it with the **R** implementation.\n",
    "\n"
   ]
  },
  {
   "cell_type": "code",
   "execution_count": 4,
   "metadata": {
    "id": "2Q7cx1GcbSAj"
   },
   "outputs": [
    {
     "ename": "ERROR",
     "evalue": "Error in arma_sum(x): could not find function \"arma_sum\"\n",
     "output_type": "error",
     "traceback": [
      "Error in arma_sum(x): could not find function \"arma_sum\"\nTraceback:\n"
     ]
    }
   ],
   "source": [
    "x <- c(10, 20, 5, 30, 21, 78, pi, exp(7))\n",
    "arma_sum(x) # sum of the vector x\n",
    "sum(x) # sum of the vector x - usual command"
   ]
  },
  {
   "cell_type": "markdown",
   "metadata": {
    "id": "o8wt3AgKbSAj"
   },
   "source": [
    "### Example 1: `rnorm` and `arma_rnorm`\n",
    "\n",
    "In `Rcpp` is possible to generate random variables. There are some mild differences from the usual **R** implementation, most notably the fact that C++ is usually not vectorized. \n",
    "\n",
    "Let us create and compile the `arma_rnorm.cpp` file, whose content is the following.\n"
   ]
  },
  {
   "cell_type": "code",
   "execution_count": null,
   "metadata": {
    "id": "w31QexQnbSAj"
   },
   "outputs": [],
   "source": [
    "#include <RcppArmadillo.h>\n",
    "// [[Rcpp::depends(RcppArmadillo)]]\n",
    "using namespace Rcpp;\n",
    "using namespace arma;\n",
    "\n",
    "// [[Rcpp::export]]\n",
    "vec arma_rnorm(int n, double mean, double sd) {\n",
    "  vec out(n); // Allocate a vector of dimension n\n",
    "  for (int i = 0; i < n; i++) {\n",
    "    out[i] = R::rnorm(mean, sd); // Sample from a Gaussian distribution\n",
    "  }\n",
    "    return out; \n",
    "}"
   ]
  },
  {
   "cell_type": "markdown",
   "metadata": {
    "id": "_6ZyNd5qbSAk"
   },
   "source": [
    "Note that the seed and the results are identical to the usual `rnorm` function in **R**. The execution time is slightly lower in Rcpp, but the difference is negligible. \n",
    "\n"
   ]
  },
  {
   "cell_type": "code",
   "execution_count": 5,
   "metadata": {
    "id": "oLh5eJIQbSAk"
   },
   "outputs": [
    {
     "ename": "ERROR",
     "evalue": "Error in arma_rnorm(5, 0, 1): could not find function \"arma_rnorm\"\n",
     "output_type": "error",
     "traceback": [
      "Error in arma_rnorm(5, 0, 1): could not find function \"arma_rnorm\"\nTraceback:\n"
     ]
    }
   ],
   "source": [
    "set.seed(123)\n",
    "c(arma_rnorm(5, 0, 1)) # Rcpp implementation\n",
    "\n",
    "set.seed(123)\n",
    "rnorm(5, 0, 1) # Usual R command"
   ]
  },
  {
   "cell_type": "markdown",
   "metadata": {
    "id": "PM0kpqfHbSAk"
   },
   "source": [
    "In terms of computing times, we get the following results\n",
    "\n"
   ]
  },
  {
   "cell_type": "code",
   "execution_count": 6,
   "metadata": {
    "id": "cSha9axsbSAl"
   },
   "outputs": [
    {
     "ename": "ERROR",
     "evalue": "Error in arma_rnorm(10^4, 3, 5): could not find function \"arma_rnorm\"\n",
     "output_type": "error",
     "traceback": [
      "Error in arma_rnorm(10^4, 3, 5): could not find function \"arma_rnorm\"\nTraceback:\n",
      "1. benchmark(Rcpp = arma_rnorm(10^4, 3, 5), R = rnorm(10^4, 3, 5), \n .     columns = c(\"test\", \"replications\", \"elapsed\", \"relative\"), \n .     replications = 1000)"
     ]
    }
   ],
   "source": [
    "library(rbenchmark)\n",
    "benchmark(\n",
    "  Rcpp = arma_rnorm(10^4, 3, 5),\n",
    "  R = rnorm(10^4, 3, 5),\n",
    "  columns = c(\"test\", \"replications\", \"elapsed\", \"relative\"),\n",
    "  replications = 1000\n",
    ")"
   ]
  },
  {
   "cell_type": "markdown",
   "metadata": {
    "id": "KQMCLD78bSAl"
   },
   "source": [
    "### Example 2: euclidean distance\n",
    "\n",
    "Suppose we are given a matrix ${\\bf X}$ of dimension $n \\times p$, whose rows are ${\\bf x}_i = (x_{i1},\\dots,x_{ip})^\\intercal$. We are interested in computing the matrix of euclidean distances ${\\bf D}$ of dimension $n \\times n$, whose entries are equal to\n",
    "\n",
    "$$\n",
    "d_{ii'} = \\sqrt{\\sum_{j=1}^p (x_{ij} - x_{i'j})^2}, \\qquad i,i' \\in \\{1,...,n\\}.\n",
    "$$\n",
    "Let us create a naive implementation of such a function in **R**. We have that\n"
   ]
  },
  {
   "cell_type": "code",
   "execution_count": 7,
   "metadata": {
    "id": "BRnBltUkbSAm"
   },
   "outputs": [],
   "source": [
    "R_dist <- function(X) {\n",
    "  n <- nrow(X)\n",
    "  D <- matrix(0, n, n) # Define the output\n",
    "  for (i in 1:n) {\n",
    "    for (k in 1:i) {\n",
    "      D[i, k] <- D[k, i] <- sqrt(sum((X[i, ] - X[k, ])^2))\n",
    "    }\n",
    "  }\n",
    "  D\n",
    "}"
   ]
  },
  {
   "cell_type": "markdown",
   "metadata": {
    "id": "-wHoB2M9bSAm"
   },
   "source": [
    "\n"
   ]
  },
  {
   "cell_type": "code",
   "execution_count": null,
   "metadata": {
    "id": "cglA5FG8bSAn"
   },
   "outputs": [],
   "source": [
    "#include <RcppArmadillo.h>\n",
    "// [[Rcpp::depends(RcppArmadillo)]]\n",
    "using namespace Rcpp;\n",
    "using namespace arma;\n",
    "\n",
    "// [[Rcpp::export]]\n",
    "mat arma_dist(const mat& X){\n",
    "  int n = X.n_rows;\n",
    "  mat D(n, n, fill::zeros); // Allocate a matrix of dimension n x n\n",
    "  for (int i = 0; i < n; i++) {\n",
    "    for(int k = 0; k < i; k++){\n",
    "      D(i, k) = sqrt(sum(pow(X.row(i) - X.row(k), 2)));\n",
    "      D(k, i) = D(i, k);\n",
    "    }\n",
    "  }\n",
    "  return D; \n",
    "}"
   ]
  },
  {
   "cell_type": "markdown",
   "metadata": {
    "id": "GEheJdeJbSAn"
   },
   "source": [
    "These two implementations produce the same result. Note that in **R** you could also use the `dist` function. \n",
    "\n"
   ]
  },
  {
   "cell_type": "code",
   "execution_count": 8,
   "metadata": {
    "id": "aXsxluLPbSAn"
   },
   "outputs": [
    {
     "data": {
      "text/html": [
       "<table class=\"dataframe\">\n",
       "<caption>A matrix: 3 × 3 of type dbl</caption>\n",
       "<thead>\n",
       "\t<tr><th></th><th scope=col>1</th><th scope=col>2</th><th scope=col>3</th></tr>\n",
       "</thead>\n",
       "<tbody>\n",
       "\t<tr><th scope=row>1</th><td> 0.00000</td><td>10.049876</td><td>18.110770</td></tr>\n",
       "\t<tr><th scope=row>2</th><td>10.04988</td><td> 0.000000</td><td> 8.062258</td></tr>\n",
       "\t<tr><th scope=row>3</th><td>18.11077</td><td> 8.062258</td><td> 0.000000</td></tr>\n",
       "</tbody>\n",
       "</table>\n"
      ],
      "text/latex": [
       "A matrix: 3 × 3 of type dbl\n",
       "\\begin{tabular}{r|lll}\n",
       "  & 1 & 2 & 3\\\\\n",
       "\\hline\n",
       "\t1 &  0.00000 & 10.049876 & 18.110770\\\\\n",
       "\t2 & 10.04988 &  0.000000 &  8.062258\\\\\n",
       "\t3 & 18.11077 &  8.062258 &  0.000000\\\\\n",
       "\\end{tabular}\n"
      ],
      "text/markdown": [
       "\n",
       "A matrix: 3 × 3 of type dbl\n",
       "\n",
       "| <!--/--> | 1 | 2 | 3 |\n",
       "|---|---|---|---|\n",
       "| 1 |  0.00000 | 10.049876 | 18.110770 |\n",
       "| 2 | 10.04988 |  0.000000 |  8.062258 |\n",
       "| 3 | 18.11077 |  8.062258 |  0.000000 |\n",
       "\n"
      ],
      "text/plain": [
       "  1        2         3        \n",
       "1  0.00000 10.049876 18.110770\n",
       "2 10.04988  0.000000  8.062258\n",
       "3 18.11077  8.062258  0.000000"
      ]
     },
     "metadata": {},
     "output_type": "display_data"
    },
    {
     "data": {
      "text/html": [
       "<table class=\"dataframe\">\n",
       "<caption>A matrix: 3 × 3 of type dbl</caption>\n",
       "<tbody>\n",
       "\t<tr><td> 0.00000</td><td>10.049876</td><td>18.110770</td></tr>\n",
       "\t<tr><td>10.04988</td><td> 0.000000</td><td> 8.062258</td></tr>\n",
       "\t<tr><td>18.11077</td><td> 8.062258</td><td> 0.000000</td></tr>\n",
       "</tbody>\n",
       "</table>\n"
      ],
      "text/latex": [
       "A matrix: 3 × 3 of type dbl\n",
       "\\begin{tabular}{lll}\n",
       "\t  0.00000 & 10.049876 & 18.110770\\\\\n",
       "\t 10.04988 &  0.000000 &  8.062258\\\\\n",
       "\t 18.11077 &  8.062258 &  0.000000\\\\\n",
       "\\end{tabular}\n"
      ],
      "text/markdown": [
       "\n",
       "A matrix: 3 × 3 of type dbl\n",
       "\n",
       "|  0.00000 | 10.049876 | 18.110770 |\n",
       "| 10.04988 |  0.000000 |  8.062258 |\n",
       "| 18.11077 |  8.062258 |  0.000000 |\n",
       "\n"
      ],
      "text/plain": [
       "     [,1]     [,2]      [,3]     \n",
       "[1,]  0.00000 10.049876 18.110770\n",
       "[2,] 10.04988  0.000000  8.062258\n",
       "[3,] 18.11077  8.062258  0.000000"
      ]
     },
     "metadata": {},
     "output_type": "display_data"
    },
    {
     "ename": "ERROR",
     "evalue": "Error in arma_dist(X): could not find function \"arma_dist\"\n",
     "output_type": "error",
     "traceback": [
      "Error in arma_dist(X): could not find function \"arma_dist\"\nTraceback:\n"
     ]
    }
   ],
   "source": [
    "X <- cbind(1:3, c(20, 10, 2))\n",
    "\n",
    "as.matrix(dist(X)) # R built-in function\n",
    "R_dist(X) # R implementation\n",
    "arma_dist(X) # Armadillo implementation"
   ]
  },
  {
   "cell_type": "markdown",
   "metadata": {
    "id": "AuU8n81SbSAo"
   },
   "source": [
    "\n"
   ]
  },
  {
   "cell_type": "code",
   "execution_count": 9,
   "metadata": {
    "id": "hSNfSAF3bSAo"
   },
   "outputs": [
    {
     "ename": "ERROR",
     "evalue": "Error in arma_dist(X): could not find function \"arma_dist\"\n",
     "output_type": "error",
     "traceback": [
      "Error in arma_dist(X): could not find function \"arma_dist\"\nTraceback:\n",
      "1. benchmark(arma_dist = arma_dist(X), R_dist = R_dist(X), dist = as.matrix(dist(X)), \n .     columns = c(\"test\", \"replications\", \"elapsed\", \"relative\"), \n .     replications = 1000)"
     ]
    }
   ],
   "source": [
    "X <- as.matrix(USArrests) # Example dataset\n",
    "benchmark(\n",
    "  arma_dist = arma_dist(X),\n",
    "  R_dist = R_dist(X),\n",
    "  dist = as.matrix(dist(X)),\n",
    "  columns = c(\"test\", \"replications\", \"elapsed\", \"relative\"),\n",
    "  replications = 1000\n",
    ")"
   ]
  },
  {
   "cell_type": "markdown",
   "metadata": {
    "id": "Xp9lkASbbSAo"
   },
   "source": [
    "### Example 3: OLS\n",
    "\n",
    "In this third example, we illustrate the performance of `RcppArmadillo` for fitting linear models. In first place, we implement two functions in **R** that obtain the OLS estimate $\\hat{\\beta}$ from the design matrix ${\\bf X}$ and the response ${ \\bf y}$.\n"
   ]
  },
  {
   "cell_type": "code",
   "execution_count": 10,
   "metadata": {
    "id": "g6tki0o6bSAp"
   },
   "outputs": [],
   "source": [
    "# Using matrix multiplication commands\n",
    "lm_coef1 <- function(X, y) {\n",
    "  solve(t(X) %*% X) %*% t(X) %*% y\n",
    "}\n",
    "\n",
    "# Smarter (no matrix inversion!) and faster implementation\n",
    "lm_coef2 <- function(X, y) {\n",
    "  solve(crossprod(X), crossprod(X, y))\n",
    "}"
   ]
  },
  {
   "cell_type": "markdown",
   "metadata": {
    "id": "ys_6o0u-bSAp"
   },
   "source": [
    "In the following, it is described the corresponding `RcppArmadillo` implementation. The linear system is then solved through the `solve` command directly applied on ${\\bf X}$ and ${ \\bf y}$.\n",
    "\n"
   ]
  },
  {
   "cell_type": "code",
   "execution_count": 11,
   "metadata": {
    "id": "9DVPhudebSAp"
   },
   "outputs": [
    {
     "ename": "ERROR",
     "evalue": "Error in parse(text = x, srcfile = src): <text>:2:1: unexpected '/'\n1: #include <RcppArmadillo.h>\n2: /\n   ^\n",
     "output_type": "error",
     "traceback": [
      "Error in parse(text = x, srcfile = src): <text>:2:1: unexpected '/'\n1: #include <RcppArmadillo.h>\n2: /\n   ^\nTraceback:\n"
     ]
    }
   ],
   "source": [
    "#include <RcppArmadillo.h>\n",
    "// [[Rcpp::depends(RcppArmadillo)]]\n",
    "using namespace Rcpp;\n",
    "using namespace arma;\n",
    "\n",
    "// [[Rcpp::export]]\n",
    "vec lm_coef3(const mat& X, const vec& y) {\n",
    "  vec coef = solve(X, y);\n",
    "  return(coef);\n",
    "}"
   ]
  },
  {
   "cell_type": "markdown",
   "metadata": {
    "id": "DHwZUPAqbSAq"
   },
   "source": [
    "The next simulation seems to confirm that the `RcppArmadillo` is faster than naive R implementations, but actually slower than `lm_coef2`. This is expected, as the function `solve` of **R** is itself written in C++. The `lm` **R** command is very slow, but it is actually computing many more quantities than just the OLS estimate. \n",
    "\n"
   ]
  },
  {
   "cell_type": "code",
   "execution_count": 12,
   "metadata": {
    "id": "QIvV8Ds8bSAq"
   },
   "outputs": [
    {
     "ename": "ERROR",
     "evalue": "Error in lm_coef3(X, y): could not find function \"lm_coef3\"\n",
     "output_type": "error",
     "traceback": [
      "Error in lm_coef3(X, y): could not find function \"lm_coef3\"\nTraceback:\n",
      "1. cbind(lm_coef1(X, y), lm_coef2(X, y), lm_coef3(X, y))"
     ]
    }
   ],
   "source": [
    "set.seed(123)\n",
    "X <- cbind(1, rnorm(10^4))\n",
    "y <- rowSums(X) + rnorm(10^4)\n",
    "\n",
    "cbind(lm_coef1(X, y), lm_coef2(X, y), lm_coef3(X, y))"
   ]
  },
  {
   "cell_type": "markdown",
   "metadata": {
    "id": "vnEGF3WIbSAq"
   },
   "source": [
    "\n"
   ]
  },
  {
   "cell_type": "code",
   "execution_count": 13,
   "metadata": {
    "id": "bt8A1VeabSAr"
   },
   "outputs": [
    {
     "ename": "ERROR",
     "evalue": "Error in lm_coef3(X, y): could not find function \"lm_coef3\"\n",
     "output_type": "error",
     "traceback": [
      "Error in lm_coef3(X, y): could not find function \"lm_coef3\"\nTraceback:\n",
      "1. benchmark(R_matrix_inv = lm_coef1(X, y), R_no_matrix_inv = lm_coef2(X, \n .     y), Rcpp = lm_coef3(X, y), lm = coef(lm(y ~ X, data = cars)), \n .     columns = c(\"test\", \"replications\", \"elapsed\", \"relative\"), \n .     replications = 1000)"
     ]
    }
   ],
   "source": [
    "benchmark(R_matrix_inv = lm_coef1(X, y),\n",
    "  R_no_matrix_inv  = lm_coef2(X, y),\n",
    "  Rcpp = lm_coef3(X, y),\n",
    "  lm = coef(lm(y ~ X, data = cars)),\n",
    "  columns = c(\"test\", \"replications\", \"elapsed\", \"relative\"),\n",
    "  replications = 1000\n",
    ")"
   ]
  },
  {
   "cell_type": "markdown",
   "metadata": {
    "id": "7F-aATsqbSAr"
   },
   "source": [
    "### Gibbs sampling example: Gaussian data\n",
    "\n",
    "In the next example, we consider a Gibbs sampling implementation for Gaussian data and conditionally conjugate prior. To make things concrete, we consider the `sleep` dataset available in **R**. \n"
   ]
  },
  {
   "cell_type": "code",
   "execution_count": 14,
   "metadata": {
    "id": "BDZLZjnUbSAr"
   },
   "outputs": [],
   "source": [
    "data(sleep)\n",
    "x <- sleep$extra[sleep$group == 1] # Extra hours of sleep for the second group"
   ]
  },
  {
   "cell_type": "markdown",
   "metadata": {
    "id": "NSXs1X_mbSAs"
   },
   "source": [
    "We assume that the observations are such that\n",
    "\n",
    "$$\n",
    "(X_i \\mid \\mu, \\sigma^2) \\overset{\\text{iid}}{\\sim} \\text{N}(\\mu, \\sigma^2), \\qquad i=1,\\dots,n.\n",
    "$$\n",
    "with independent priors $\\mu \\sim \\text{N}(\\mu_\\mu, \\sigma^2_\\mu)$ and $\\sigma^{-2} \\sim \\text{Ga}(a_\\sigma, b_\\sigma)$. The full conditional distributions are the following:\n",
    "\n",
    "$$\n",
    "(\\mu \\mid -) \\sim \\text{N}\\left(\\mu_n, \\sigma^2_n\\right), \\qquad \\mu_n = \\sigma^2_n\\left(\\frac{\\mu_\\mu}{\\sigma^2_\\mu} + \\frac{1}{\\sigma^2}\\sum_{i=1}^nx_i\\right), \\quad \\sigma^2_n = \\left(\\frac{n}{\\sigma^2} + \\frac{1}{\\sigma^2_\\mu}\\right)^{-1}\n",
    "$$\n",
    "and\n",
    "\n",
    "$$\n",
    "(\\sigma^{-2} \\mid -) \\sim \\text{Ga}\\left(a_n, b_n\\right), \\qquad a_n = a_\\sigma + n/2, \\quad b_n = b_\\sigma + \\frac{1}{2}\\sum_{i=1}^n(x_i - \\mu)^2.\n",
    "$$\n",
    "We compare a Gibbs sampling implementation (`gibbs_R` function) with the corresponding `Rcpp` implementation (`gibbs_arma` function). Let us start with the **R** implementation. \n"
   ]
  },
  {
   "cell_type": "code",
   "execution_count": 15,
   "metadata": {
    "id": "p2v1aSqdbSAs"
   },
   "outputs": [],
   "source": [
    "gibbs_R <- function(x, mu_mu, sigma2_mu, a_sigma, b_sigma, R, burn_in) {\n",
    "\n",
    "  # Initialization\n",
    "  n <- length(x)\n",
    "  xbar <- mean(x)\n",
    "  out <- matrix(0, R, 2)\n",
    "\n",
    "  # Initial values for mu and sigma\n",
    "  sigma2 <- var(x)\n",
    "  mu <- xbar\n",
    "\n",
    "  for (r in 1:(burn_in + R)) {\n",
    "\n",
    "    # Sample mu\n",
    "    sigma2_n <- 1 / (1 / sigma2_mu + n / sigma2)\n",
    "    mu_n <- sigma2_n * (mu_mu / sigma2_mu + n / sigma2 * xbar)\n",
    "    mu <- rnorm(1, mu_n, sqrt(sigma2_n))\n",
    "\n",
    "    # Sample sigma2\n",
    "    a_n <- a_sigma + 0.5 * n\n",
    "    b_n <- b_sigma + 0.5 * sum((x - mu)^2)\n",
    "    sigma2 <- 1 / rgamma(1, a_n, b_n)\n",
    "\n",
    "    # Store the values after the burn-in period\n",
    "    if (r > burn_in) {\n",
    "      out[r - burn_in, ] <- c(mu, sigma2)\n",
    "    }\n",
    "  }\n",
    "  out\n",
    "}"
   ]
  },
  {
   "cell_type": "markdown",
   "metadata": {
    "id": "IPFhe0HYbSAs"
   },
   "source": [
    "We now \"translate\" the `gibbs_R` function into `Rcpp`. \n",
    "\n"
   ]
  },
  {
   "cell_type": "code",
   "execution_count": null,
   "metadata": {
    "id": "fiNrCNoRbSAt"
   },
   "outputs": [],
   "source": [
    "#include <RcppArmadillo.h>\n",
    "// [[Rcpp::depends(RcppArmadillo)]]\n",
    "using namespace Rcpp;\n",
    "using namespace arma;\n",
    "\n",
    "// [[Rcpp::export]] \n",
    "mat gibbs_arma(vec x, double mu_mu, double sigma2_mu, double a_sigma, double b_sigma, int R, int burn_in){\n",
    "  \n",
    "  // Initialization\n",
    "  double n = x.n_elem;\n",
    "  double xbar = mean(x);\n",
    "  mat out(R,2);\n",
    "\n",
    "  // Initial values for mu and sigma\n",
    "  double sigma2 = var(x);\n",
    "  double mu = mean(x);\n",
    "  \n",
    "  for (int r = 0; r < R + burn_in; r++) {\n",
    "    // Sample mu\n",
    "    double sigma2_n = 1.0 / (1.0 / sigma2_mu + n / sigma2);\n",
    "    double mu_n = sigma2_n * (mu_mu / sigma2_mu + n / sigma2 * xbar);\n",
    "    mu = rnorm(1, mu_n, sqrt(sigma2_n))[0];\n",
    "      \n",
    "   // Sample sigma2\n",
    "    double a_n = a_sigma + 0.5*n;\n",
    "    double b_n = b_sigma + 0.5 * sum(pow(x - mu,2));\n",
    "    // NOTE: rgamma in Rcpp use scale, not rate, as default\n",
    "    sigma2 = 1.0 / rgamma(1, a_n, 1.0 / b_n)[0];\n",
    "  \n",
    "    if (r > burn_in) {\n",
    "      out(r - burn_in, 0) = mu;\n",
    "      out(r - burn_in, 1) = sigma2;\n",
    "    }\n",
    "  }\n",
    "  return out;\n",
    "}"
   ]
  },
  {
   "cell_type": "markdown",
   "metadata": {
    "id": "6n56dUE1bSAt"
   },
   "source": [
    "We can now run the algorithm. We choose `R = 50000` and `burn_in = 5000`. The timing differences between the two implementations are substantial. \n",
    "\n"
   ]
  },
  {
   "cell_type": "code",
   "execution_count": 16,
   "metadata": {
    "id": "ZJkqilSgbSAt"
   },
   "outputs": [],
   "source": [
    "R <- 50000\n",
    "burn_in <- 5000"
   ]
  },
  {
   "cell_type": "markdown",
   "metadata": {
    "id": "fdKpZhPEbSAu"
   },
   "source": [
    "\n"
   ]
  },
  {
   "cell_type": "code",
   "execution_count": 17,
   "metadata": {
    "id": "dRWLRKnIbSAu"
   },
   "outputs": [
    {
     "name": "stdout",
     "output_type": "stream",
     "text": [
      "0.456 sec elapsed\n"
     ]
    },
    {
     "ename": "ERROR",
     "evalue": "Error in gibbs_arma(x, mu_mu, sigma2_mu, a_sigma, b_sigma, R, burn_in): could not find function \"gibbs_arma\"\n",
     "output_type": "error",
     "traceback": [
      "Error in gibbs_arma(x, mu_mu, sigma2_mu, a_sigma, b_sigma, R, burn_in): could not find function \"gibbs_arma\"\nTraceback:\n"
     ]
    }
   ],
   "source": [
    "library(tictoc) # Library for \"timing\" the functions\n",
    "set.seed(123)\n",
    "\n",
    "# Hyperparameter settings\n",
    "mu_mu <- 0\n",
    "sigma2_mu <- 50\n",
    "a_sigma <- b_sigma <- 2\n",
    "\n",
    "tic()\n",
    "fitR <- gibbs_R(x, mu_mu, sigma2_mu, a_sigma, b_sigma, R, burn_in)\n",
    "toc()\n",
    "\n",
    "tic()\n",
    "fitRcpp <- gibbs_arma(x, mu_mu, sigma2_mu, a_sigma, b_sigma, R, burn_in)\n",
    "toc()"
   ]
  },
  {
   "cell_type": "markdown",
   "metadata": {
    "id": "DDV4HG23bSAu"
   },
   "source": [
    "### Checking the convergence\n",
    "\n"
   ]
  },
  {
   "cell_type": "code",
   "execution_count": null,
   "metadata": {
    "id": "TyoF3IQ0bSAv"
   },
   "outputs": [],
   "source": [
    "library(coda)\n",
    "fitRcpp <- as.mcmc(fitRcpp) # Convert the matrix into a \"coda\" object\n",
    "plot(fitRcpp)"
   ]
  },
  {
   "cell_type": "markdown",
   "metadata": {
    "id": "Kwx5_2CobSAv"
   },
   "source": [
    "\n",
    "\n"
   ]
  }
 ],
 "metadata": {
  "anaconda-cloud": "",
  "colab": {
   "include_colab_link": true,
   "name": "un_A2.ipynb",
   "provenance": []
  },
  "kernelspec": {
   "display_name": "R",
   "language": "R",
   "name": "ir"
  },
  "language_info": {
   "codemirror_mode": "r",
   "file_extension": ".r",
   "mimetype": "text/x-r-source",
   "name": "R",
   "pygments_lexer": "r",
   "version": "4.1.2"
  }
 },
 "nbformat": 4,
 "nbformat_minor": 1
}
