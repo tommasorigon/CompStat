{
 "cells": [
  {
   "cell_type": "markdown",
   "metadata": {
    "id": "view-in-github"
   },
   "source": [
    "<a href=\"https://colab.research.google.com/github/tommasorigon/CompStat/blob/main/notebook/un_A2.ipynb\" target=\"_parent\"><img src=\"https://colab.research.google.com/assets/colab-badge.svg\" alt=\"Open In Colab\"/></a>"
   ]
  },
  {
   "cell_type": "markdown",
   "metadata": {
    "id": "tqFDBv7JbSAZ"
   },
   "source": [
    "\n",
    "# Unit A.2 - Rcpp & RcppArmadillo"
   ]
  },
  {
   "cell_type": "markdown",
   "metadata": {
    "id": "UOdIsYx9bSAe"
   },
   "source": [
    "## Documentation\n",
    "\n",
    "### Rcpp\n",
    "\n",
    "The `Rcpp` **R** package simplifies the interface between **R** and C++. The main advantage is that C++ code is usually faster than **R**, especially in non-vectorized settings. \n",
    "\n",
    "The official website of `Rcpp` is [http://www.rcpp.org](http://www.rcpp.org), but you can find a large amount of tutorials and examples online. An important and useful read is\n",
    "\n",
    "- Eddelbuettel, D. and Balamuta, J. J. (2018). Extending R with C++: A Brief Introduction to Rcpp. *The American Statistician*, **72**(1), 28--36.\n",
    "\n",
    "This paper is highly recommended as it provides further documentation, examples and discusses the \"philosophy\" behind `Rcpp`.\n",
    "\n",
    "### RcppArmadillo\n",
    "\n",
    "The package `RcppArmadillo` is an extension of `Rcpp` designed for highly efficient **linear algebra**. \n",
    "\n",
    "As described in the official documentation (http://arma.sourceforge.net), Armadillo is a \"high quality linear algebra library (matrix maths) for the C++ language, aiming towards a good balance between speed and ease of use\".\n",
    "\n",
    "The syntax is deliberately similar to that of Matlab and **R**.\n",
    "\n",
    "## Installation\n",
    "\n",
    "In first place, you **need a C++ compiler**. For `RcppArmadillo` you will also need a **Fortran compiler**.\n",
    "\n",
    "If you are a **Windows user**, you just need to install [Rtools](https://cran.r-project.org/bin/windows/Rtools/), as described here:\n",
    "\n",
    "- https://thecoatlessprofessor.com/programming/cpp/installing-rtools-for-compiled-code-via-rcpp/\n",
    "\n",
    "If you are a **Mac Os user**, unfortunately the procedure is slightly more complicate. You can refer to:\n",
    "\n",
    "- https://thecoatlessprofessor.com/programming/cpp/r-compiler-tools-for-rcpp-on-macos/\n",
    "\n",
    "If you are a **Linux user**, you probably already know what to do. In any event, this is the easieast case as you just need to run the following commands\n"
   ]
  },
  {
   "cell_type": "code",
   "execution_count": null,
   "metadata": {
    "id": "xBSHrB7pbSAf"
   },
   "outputs": [],
   "source": [
    "# RHEL/CentOS\n",
    "sudo yum update\n",
    "sudo yum install R\n",
    "\n",
    "# Ubuntu\n",
    "sudo apt-get update\n",
    "sudo apt-get install r-base r-base-dev"
   ]
  },
  {
   "cell_type": "markdown",
   "metadata": {
    "id": "PMQm_k1ebSAg"
   },
   "source": [
    "Finally, the **R** packages `Rcpp` and `RcppArmadillo` can be installed in the usual manner, i.e. using `install.packages(\"Rcpp\")` and `install.packages(\"RcppArmadillo\")`. \n",
    "\n",
    "## Basic examples\n",
    "\n",
    "### Verifying the installation and basic usage\n",
    "\n",
    "In first place, let us load the **R** packages into memory.\n"
   ]
  },
  {
   "cell_type": "code",
   "execution_count": 2,
   "metadata": {
    "colab": {
     "base_uri": "https://localhost:8080/"
    },
    "executionInfo": {
     "elapsed": 34697,
     "status": "ok",
     "timestamp": 1646408258527,
     "user": {
      "displayName": "Tommaso Rigon",
      "photoUrl": "https://lh3.googleusercontent.com/a-/AOh14GipIA-GFbSE02GMALk8dwNJgy36LN8CARkkbRTFdjg=s64",
      "userId": "15611440935089428693"
     },
     "user_tz": -60
    },
    "id": "UtHD14QWk5Ri",
    "outputId": "a16ec2a9-2aa5-47a3-d76a-5e80fa8d0b8e"
   },
   "outputs": [
    {
     "name": "stderr",
     "output_type": "stream",
     "text": [
      "Installing package into ‘/usr/local/lib/R/site-library’\n",
      "(as ‘lib’ is unspecified)\n",
      "\n"
     ]
    }
   ],
   "source": [
    "install.packages(\"RcppArmadillo\")"
   ]
  },
  {
   "cell_type": "code",
   "execution_count": 3,
   "metadata": {
    "executionInfo": {
     "elapsed": 6,
     "status": "ok",
     "timestamp": 1646408262800,
     "user": {
      "displayName": "Tommaso Rigon",
      "photoUrl": "https://lh3.googleusercontent.com/a-/AOh14GipIA-GFbSE02GMALk8dwNJgy36LN8CARkkbRTFdjg=s64",
      "userId": "15611440935089428693"
     },
     "user_tz": -60
    },
    "id": "o2hTXiw2kzc0"
   },
   "outputs": [],
   "source": [
    "library(Rcpp)\n",
    "library(RcppArmadillo)"
   ]
  },
  {
   "cell_type": "markdown",
   "metadata": {
    "id": "4ivqY6wZbSAh"
   },
   "source": [
    "In order to write a C++ function, we need to perform the following step\n",
    "\n",
    "1. Create an empty file, say `file.cpp`, which will contain the C++ code. If you are using **Rstudio**, you can create it from File --> New file. \n",
    "\n",
    "2. Save the C++ file and **compile it** using the `sourceCpp` function of the `Rcpp` package. \n",
    "\n",
    "3. Use the functions contained in the C++ file within **R**, as usual.\n",
    "\n",
    "We create a `sum.cpp` file including the function `arma_sum`, which computes the sum of the elements of a vector. You can include multiple functions into a single file, but only those preceeded by `// [[Rcpp::export]]` will be available within **R**. \n",
    "\n",
    "The C++ code of the `sum.cpp` file is given in the following. Note that we need to **import the Rcpp and RcppArmadillo libraries**.\n"
   ]
  },
  {
   "cell_type": "code",
   "execution_count": null,
   "metadata": {
    "id": "rWfetI_YbSAh"
   },
   "outputs": [],
   "source": [
    "#include <RcppArmadillo.h>\n",
    "// [[Rcpp::depends(RcppArmadillo)]]\n",
    "using namespace Rcpp;\n",
    "using namespace arma;\n",
    "\n",
    "// [[Rcpp::export]] \n",
    "double arma_sum(vec x){\n",
    "  double sum = 0;\n",
    "  int n = x.n_elem; // Length of the vector x\n",
    "  for(int i=0; i < n; i++){\n",
    "    sum += x[i]; // Shorthand for: sum = sum + x[i];\n",
    "  }\n",
    "  return(sum);\n",
    "}"
   ]
  },
  {
   "cell_type": "markdown",
   "metadata": {
    "id": "k_LzuBCZbSAi"
   },
   "source": [
    "Then, we can **compile** the `sum.cpp` file with the following command. If you are using **RStudio**, you can also click on the **source button**.\n",
    "\n"
   ]
  },
  {
   "cell_type": "code",
   "execution_count": 11,
   "metadata": {
    "executionInfo": {
     "elapsed": 8751,
     "status": "ok",
     "timestamp": 1646408682769,
     "user": {
      "displayName": "Tommaso Rigon",
      "photoUrl": "https://lh3.googleusercontent.com/a-/AOh14GipIA-GFbSE02GMALk8dwNJgy36LN8CARkkbRTFdjg=s64",
      "userId": "15611440935089428693"
     },
     "user_tz": -60
    },
    "id": "qzoe9c2CbSAi"
   },
   "outputs": [],
   "source": [
    "download.file(\"https://tommasorigon.github.io/CompStat/cpp/sum.cpp\", \"sum.cpp\")\n",
    "sourceCpp('sum.cpp')"
   ]
  },
  {
   "cell_type": "markdown",
   "metadata": {
    "id": "5gdUBxzYbSAi"
   },
   "source": [
    "We can finally test the `arma_sum` function and compare it with the **R** implementation.\n",
    "\n"
   ]
  },
  {
   "cell_type": "code",
   "execution_count": 13,
   "metadata": {
    "colab": {
     "base_uri": "https://localhost:8080/",
     "height": 51
    },
    "executionInfo": {
     "elapsed": 223,
     "status": "ok",
     "timestamp": 1646408709906,
     "user": {
      "displayName": "Tommaso Rigon",
      "photoUrl": "https://lh3.googleusercontent.com/a-/AOh14GipIA-GFbSE02GMALk8dwNJgy36LN8CARkkbRTFdjg=s64",
      "userId": "15611440935089428693"
     },
     "user_tz": -60
    },
    "id": "2Q7cx1GcbSAj",
    "outputId": "69f3b0d7-fa7f-4b44-bd37-0b3849b7bc5b"
   },
   "outputs": [
    {
     "data": {
      "text/html": [
       "1263.77475108205"
      ],
      "text/latex": [
       "1263.77475108205"
      ],
      "text/markdown": [
       "1263.77475108205"
      ],
      "text/plain": [
       "[1] 1263.775"
      ]
     },
     "metadata": {},
     "output_type": "display_data"
    },
    {
     "data": {
      "text/html": [
       "1263.77475108205"
      ],
      "text/latex": [
       "1263.77475108205"
      ],
      "text/markdown": [
       "1263.77475108205"
      ],
      "text/plain": [
       "[1] 1263.775"
      ]
     },
     "metadata": {},
     "output_type": "display_data"
    }
   ],
   "source": [
    "x <- c(10, 20, 5, 30, 21, 78, pi, exp(7))\n",
    "arma_sum(x) # sum of the vector x\n",
    "sum(x) # sum of the vector x - usual command"
   ]
  },
  {
   "cell_type": "markdown",
   "metadata": {
    "id": "o8wt3AgKbSAj"
   },
   "source": [
    "### Example 1: `rnorm` and `arma_rnorm`\n",
    "\n",
    "In `Rcpp` is possible to generate random variables. There are some mild differences from the usual **R** implementation, most notably the fact that C++ is usually not vectorized. \n",
    "\n",
    "Let us create and compile the `arma_rnorm.cpp` file, whose content is the following.\n"
   ]
  },
  {
   "cell_type": "code",
   "execution_count": null,
   "metadata": {
    "id": "w31QexQnbSAj"
   },
   "outputs": [],
   "source": [
    "#include <RcppArmadillo.h>\n",
    "// [[Rcpp::depends(RcppArmadillo)]]\n",
    "using namespace Rcpp;\n",
    "using namespace arma;\n",
    "\n",
    "// [[Rcpp::export]]\n",
    "vec arma_rnorm(int n, double mean, double sd) {\n",
    "  vec out(n); // Allocate a vector of dimension n\n",
    "  for (int i = 0; i < n; i++) {\n",
    "    out[i] = R::rnorm(mean, sd); // Sample from a Gaussian distribution\n",
    "  }\n",
    "    return out; \n",
    "}"
   ]
  },
  {
   "cell_type": "markdown",
   "metadata": {
    "id": "_6ZyNd5qbSAk"
   },
   "source": [
    "Note that the seed and the results are identical to the usual `rnorm` function in **R**. The execution time is slightly lower in Rcpp, but the difference is negligible. \n",
    "\n"
   ]
  },
  {
   "cell_type": "code",
   "execution_count": 15,
   "metadata": {
    "executionInfo": {
     "elapsed": 8963,
     "status": "ok",
     "timestamp": 1646408780767,
     "user": {
      "displayName": "Tommaso Rigon",
      "photoUrl": "https://lh3.googleusercontent.com/a-/AOh14GipIA-GFbSE02GMALk8dwNJgy36LN8CARkkbRTFdjg=s64",
      "userId": "15611440935089428693"
     },
     "user_tz": -60
    },
    "id": "jjACepnFm7vJ"
   },
   "outputs": [],
   "source": [
    "download.file(\"https://tommasorigon.github.io/CompStat/cpp/rnorm.cpp\", \"rnorm.cpp\")\n",
    "sourceCpp('rnorm.cpp')"
   ]
  },
  {
   "cell_type": "code",
   "execution_count": 16,
   "metadata": {
    "colab": {
     "base_uri": "https://localhost:8080/",
     "height": 51
    },
    "executionInfo": {
     "elapsed": 245,
     "status": "ok",
     "timestamp": 1646408783787,
     "user": {
      "displayName": "Tommaso Rigon",
      "photoUrl": "https://lh3.googleusercontent.com/a-/AOh14GipIA-GFbSE02GMALk8dwNJgy36LN8CARkkbRTFdjg=s64",
      "userId": "15611440935089428693"
     },
     "user_tz": -60
    },
    "id": "oLh5eJIQbSAk",
    "outputId": "7a886a66-7b81-4ceb-b51a-cb61e266030d"
   },
   "outputs": [
    {
     "data": {
      "text/html": [
       "<style>\n",
       ".list-inline {list-style: none; margin:0; padding: 0}\n",
       ".list-inline>li {display: inline-block}\n",
       ".list-inline>li:not(:last-child)::after {content: \"\\00b7\"; padding: 0 .5ex}\n",
       "</style>\n",
       "<ol class=list-inline><li>-0.560475646552213</li><li>-0.23017748948328</li><li>1.55870831414912</li><li>0.070508391424576</li><li>0.129287735160946</li></ol>\n"
      ],
      "text/latex": [
       "\\begin{enumerate*}\n",
       "\\item -0.560475646552213\n",
       "\\item -0.23017748948328\n",
       "\\item 1.55870831414912\n",
       "\\item 0.070508391424576\n",
       "\\item 0.129287735160946\n",
       "\\end{enumerate*}\n"
      ],
      "text/markdown": [
       "1. -0.560475646552213\n",
       "2. -0.23017748948328\n",
       "3. 1.55870831414912\n",
       "4. 0.070508391424576\n",
       "5. 0.129287735160946\n",
       "\n",
       "\n"
      ],
      "text/plain": [
       "[1] -0.56047565 -0.23017749  1.55870831  0.07050839  0.12928774"
      ]
     },
     "metadata": {},
     "output_type": "display_data"
    },
    {
     "data": {
      "text/html": [
       "<style>\n",
       ".list-inline {list-style: none; margin:0; padding: 0}\n",
       ".list-inline>li {display: inline-block}\n",
       ".list-inline>li:not(:last-child)::after {content: \"\\00b7\"; padding: 0 .5ex}\n",
       "</style>\n",
       "<ol class=list-inline><li>-0.560475646552213</li><li>-0.23017748948328</li><li>1.55870831414912</li><li>0.070508391424576</li><li>0.129287735160946</li></ol>\n"
      ],
      "text/latex": [
       "\\begin{enumerate*}\n",
       "\\item -0.560475646552213\n",
       "\\item -0.23017748948328\n",
       "\\item 1.55870831414912\n",
       "\\item 0.070508391424576\n",
       "\\item 0.129287735160946\n",
       "\\end{enumerate*}\n"
      ],
      "text/markdown": [
       "1. -0.560475646552213\n",
       "2. -0.23017748948328\n",
       "3. 1.55870831414912\n",
       "4. 0.070508391424576\n",
       "5. 0.129287735160946\n",
       "\n",
       "\n"
      ],
      "text/plain": [
       "[1] -0.56047565 -0.23017749  1.55870831  0.07050839  0.12928774"
      ]
     },
     "metadata": {},
     "output_type": "display_data"
    }
   ],
   "source": [
    "set.seed(123)\n",
    "c(arma_rnorm(5, 0, 1)) # Rcpp implementation\n",
    "\n",
    "set.seed(123)\n",
    "rnorm(5, 0, 1) # Usual R command"
   ]
  },
  {
   "cell_type": "markdown",
   "metadata": {
    "id": "PM0kpqfHbSAk"
   },
   "source": [
    "In terms of computing times, we get the following results\n",
    "\n"
   ]
  },
  {
   "cell_type": "code",
   "execution_count": 18,
   "metadata": {
    "colab": {
     "base_uri": "https://localhost:8080/"
    },
    "executionInfo": {
     "elapsed": 3083,
     "status": "ok",
     "timestamp": 1646408802381,
     "user": {
      "displayName": "Tommaso Rigon",
      "photoUrl": "https://lh3.googleusercontent.com/a-/AOh14GipIA-GFbSE02GMALk8dwNJgy36LN8CARkkbRTFdjg=s64",
      "userId": "15611440935089428693"
     },
     "user_tz": -60
    },
    "id": "ioSQYaR4nGwG",
    "outputId": "492e24c0-c04a-4c68-f8ba-8fdbb303cedf"
   },
   "outputs": [
    {
     "name": "stderr",
     "output_type": "stream",
     "text": [
      "Installing package into ‘/usr/local/lib/R/site-library’\n",
      "(as ‘lib’ is unspecified)\n",
      "\n"
     ]
    }
   ],
   "source": [
    "install.packages(\"rbenchmark\")"
   ]
  },
  {
   "cell_type": "code",
   "execution_count": 19,
   "metadata": {
    "colab": {
     "base_uri": "https://localhost:8080/",
     "height": 159
    },
    "executionInfo": {
     "elapsed": 1958,
     "status": "ok",
     "timestamp": 1646408805765,
     "user": {
      "displayName": "Tommaso Rigon",
      "photoUrl": "https://lh3.googleusercontent.com/a-/AOh14GipIA-GFbSE02GMALk8dwNJgy36LN8CARkkbRTFdjg=s64",
      "userId": "15611440935089428693"
     },
     "user_tz": -60
    },
    "id": "cSha9axsbSAl",
    "outputId": "1778a3ba-8850-4611-f77e-da1a499e88ad"
   },
   "outputs": [
    {
     "data": {
      "text/html": [
       "<table class=\"dataframe\">\n",
       "<caption>A data.frame: 2 × 4</caption>\n",
       "<thead>\n",
       "\t<tr><th></th><th scope=col>test</th><th scope=col>replications</th><th scope=col>elapsed</th><th scope=col>relative</th></tr>\n",
       "\t<tr><th></th><th scope=col>&lt;chr&gt;</th><th scope=col>&lt;int&gt;</th><th scope=col>&lt;dbl&gt;</th><th scope=col>&lt;dbl&gt;</th></tr>\n",
       "</thead>\n",
       "<tbody>\n",
       "\t<tr><th scope=row>2</th><td>R   </td><td>1000</td><td>0.764</td><td>1.308</td></tr>\n",
       "\t<tr><th scope=row>1</th><td>Rcpp</td><td>1000</td><td>0.584</td><td>1.000</td></tr>\n",
       "</tbody>\n",
       "</table>\n"
      ],
      "text/latex": [
       "A data.frame: 2 × 4\n",
       "\\begin{tabular}{r|llll}\n",
       "  & test & replications & elapsed & relative\\\\\n",
       "  & <chr> & <int> & <dbl> & <dbl>\\\\\n",
       "\\hline\n",
       "\t2 & R    & 1000 & 0.764 & 1.308\\\\\n",
       "\t1 & Rcpp & 1000 & 0.584 & 1.000\\\\\n",
       "\\end{tabular}\n"
      ],
      "text/markdown": [
       "\n",
       "A data.frame: 2 × 4\n",
       "\n",
       "| <!--/--> | test &lt;chr&gt; | replications &lt;int&gt; | elapsed &lt;dbl&gt; | relative &lt;dbl&gt; |\n",
       "|---|---|---|---|---|\n",
       "| 2 | R    | 1000 | 0.764 | 1.308 |\n",
       "| 1 | Rcpp | 1000 | 0.584 | 1.000 |\n",
       "\n"
      ],
      "text/plain": [
       "  test replications elapsed relative\n",
       "2 R    1000         0.764   1.308   \n",
       "1 Rcpp 1000         0.584   1.000   "
      ]
     },
     "metadata": {},
     "output_type": "display_data"
    }
   ],
   "source": [
    "library(rbenchmark)\n",
    "benchmark(\n",
    "  Rcpp = arma_rnorm(10^4, 3, 5),\n",
    "  R = rnorm(10^4, 3, 5),\n",
    "  columns = c(\"test\", \"replications\", \"elapsed\", \"relative\"),\n",
    "  replications = 1000\n",
    ")"
   ]
  },
  {
   "cell_type": "markdown",
   "metadata": {
    "id": "KQMCLD78bSAl"
   },
   "source": [
    "### Example 2: euclidean distance\n",
    "\n",
    "Suppose we are given a matrix ${\\bf X}$ of dimension $n \\times p$, whose rows are ${\\bf x}_i = (x_{i1},\\dots,x_{ip})^\\intercal$. We are interested in computing the matrix of euclidean distances ${\\bf D}$ of dimension $n \\times n$, whose entries are equal to\n",
    "\n",
    "$$\n",
    "d_{ii'} = \\sqrt{\\sum_{j=1}^p (x_{ij} - x_{i'j})^2}, \\qquad i,i' \\in \\{1,...,n\\}.\n",
    "$$\n",
    "Let us create a naive implementation of such a function in **R**. We have that\n"
   ]
  },
  {
   "cell_type": "code",
   "execution_count": 20,
   "metadata": {
    "executionInfo": {
     "elapsed": 229,
     "status": "ok",
     "timestamp": 1646408813030,
     "user": {
      "displayName": "Tommaso Rigon",
      "photoUrl": "https://lh3.googleusercontent.com/a-/AOh14GipIA-GFbSE02GMALk8dwNJgy36LN8CARkkbRTFdjg=s64",
      "userId": "15611440935089428693"
     },
     "user_tz": -60
    },
    "id": "BRnBltUkbSAm"
   },
   "outputs": [],
   "source": [
    "R_dist <- function(X) {\n",
    "  n <- nrow(X)\n",
    "  D <- matrix(0, n, n) # Define the output\n",
    "  for (i in 1:n) {\n",
    "    for (k in 1:i) {\n",
    "      D[i, k] <- D[k, i] <- sqrt(sum((X[i, ] - X[k, ])^2))\n",
    "    }\n",
    "  }\n",
    "  D\n",
    "}"
   ]
  },
  {
   "cell_type": "markdown",
   "metadata": {
    "id": "-wHoB2M9bSAm"
   },
   "source": [
    "\n"
   ]
  },
  {
   "cell_type": "code",
   "execution_count": null,
   "metadata": {
    "id": "cglA5FG8bSAn"
   },
   "outputs": [],
   "source": [
    "#include <RcppArmadillo.h>\n",
    "// [[Rcpp::depends(RcppArmadillo)]]\n",
    "using namespace Rcpp;\n",
    "using namespace arma;\n",
    "\n",
    "// [[Rcpp::export]]\n",
    "mat arma_dist(const mat& X){\n",
    "  int n = X.n_rows;\n",
    "  mat D(n, n, fill::zeros); // Allocate a matrix of dimension n x n\n",
    "  for (int i = 0; i < n; i++) {\n",
    "    for(int k = 0; k < i; k++){\n",
    "      D(i, k) = sqrt(sum(pow(X.row(i) - X.row(k), 2)));\n",
    "      D(k, i) = D(i, k);\n",
    "    }\n",
    "  }\n",
    "  return D; \n",
    "}"
   ]
  },
  {
   "cell_type": "markdown",
   "metadata": {
    "id": "GEheJdeJbSAn"
   },
   "source": [
    "These two implementations produce the same result. Note that in **R** you could also use the `dist` function. \n",
    "\n"
   ]
  },
  {
   "cell_type": "code",
   "execution_count": 21,
   "metadata": {
    "executionInfo": {
     "elapsed": 8783,
     "status": "ok",
     "timestamp": 1646408856517,
     "user": {
      "displayName": "Tommaso Rigon",
      "photoUrl": "https://lh3.googleusercontent.com/a-/AOh14GipIA-GFbSE02GMALk8dwNJgy36LN8CARkkbRTFdjg=s64",
      "userId": "15611440935089428693"
     },
     "user_tz": -60
    },
    "id": "AJAALqyKnOBO"
   },
   "outputs": [],
   "source": [
    "download.file(\"https://tommasorigon.github.io/CompStat/cpp/dist.cpp\", \"dist.cpp\")\n",
    "sourceCpp('dist.cpp')"
   ]
  },
  {
   "cell_type": "code",
   "execution_count": 22,
   "metadata": {
    "colab": {
     "base_uri": "https://localhost:8080/",
     "height": 379
    },
    "executionInfo": {
     "elapsed": 348,
     "status": "ok",
     "timestamp": 1646408858825,
     "user": {
      "displayName": "Tommaso Rigon",
      "photoUrl": "https://lh3.googleusercontent.com/a-/AOh14GipIA-GFbSE02GMALk8dwNJgy36LN8CARkkbRTFdjg=s64",
      "userId": "15611440935089428693"
     },
     "user_tz": -60
    },
    "id": "aXsxluLPbSAn",
    "outputId": "9edcfdeb-5f98-4457-b5cc-3652f57a3cf6"
   },
   "outputs": [
    {
     "data": {
      "text/html": [
       "<table class=\"dataframe\">\n",
       "<caption>A matrix: 3 × 3 of type dbl</caption>\n",
       "<thead>\n",
       "\t<tr><th></th><th scope=col>1</th><th scope=col>2</th><th scope=col>3</th></tr>\n",
       "</thead>\n",
       "<tbody>\n",
       "\t<tr><th scope=row>1</th><td> 0.00000</td><td>10.049876</td><td>18.110770</td></tr>\n",
       "\t<tr><th scope=row>2</th><td>10.04988</td><td> 0.000000</td><td> 8.062258</td></tr>\n",
       "\t<tr><th scope=row>3</th><td>18.11077</td><td> 8.062258</td><td> 0.000000</td></tr>\n",
       "</tbody>\n",
       "</table>\n"
      ],
      "text/latex": [
       "A matrix: 3 × 3 of type dbl\n",
       "\\begin{tabular}{r|lll}\n",
       "  & 1 & 2 & 3\\\\\n",
       "\\hline\n",
       "\t1 &  0.00000 & 10.049876 & 18.110770\\\\\n",
       "\t2 & 10.04988 &  0.000000 &  8.062258\\\\\n",
       "\t3 & 18.11077 &  8.062258 &  0.000000\\\\\n",
       "\\end{tabular}\n"
      ],
      "text/markdown": [
       "\n",
       "A matrix: 3 × 3 of type dbl\n",
       "\n",
       "| <!--/--> | 1 | 2 | 3 |\n",
       "|---|---|---|---|\n",
       "| 1 |  0.00000 | 10.049876 | 18.110770 |\n",
       "| 2 | 10.04988 |  0.000000 |  8.062258 |\n",
       "| 3 | 18.11077 |  8.062258 |  0.000000 |\n",
       "\n"
      ],
      "text/plain": [
       "  1        2         3        \n",
       "1  0.00000 10.049876 18.110770\n",
       "2 10.04988  0.000000  8.062258\n",
       "3 18.11077  8.062258  0.000000"
      ]
     },
     "metadata": {},
     "output_type": "display_data"
    },
    {
     "data": {
      "text/html": [
       "<table class=\"dataframe\">\n",
       "<caption>A matrix: 3 × 3 of type dbl</caption>\n",
       "<tbody>\n",
       "\t<tr><td> 0.00000</td><td>10.049876</td><td>18.110770</td></tr>\n",
       "\t<tr><td>10.04988</td><td> 0.000000</td><td> 8.062258</td></tr>\n",
       "\t<tr><td>18.11077</td><td> 8.062258</td><td> 0.000000</td></tr>\n",
       "</tbody>\n",
       "</table>\n"
      ],
      "text/latex": [
       "A matrix: 3 × 3 of type dbl\n",
       "\\begin{tabular}{lll}\n",
       "\t  0.00000 & 10.049876 & 18.110770\\\\\n",
       "\t 10.04988 &  0.000000 &  8.062258\\\\\n",
       "\t 18.11077 &  8.062258 &  0.000000\\\\\n",
       "\\end{tabular}\n"
      ],
      "text/markdown": [
       "\n",
       "A matrix: 3 × 3 of type dbl\n",
       "\n",
       "|  0.00000 | 10.049876 | 18.110770 |\n",
       "| 10.04988 |  0.000000 |  8.062258 |\n",
       "| 18.11077 |  8.062258 |  0.000000 |\n",
       "\n"
      ],
      "text/plain": [
       "     [,1]     [,2]      [,3]     \n",
       "[1,]  0.00000 10.049876 18.110770\n",
       "[2,] 10.04988  0.000000  8.062258\n",
       "[3,] 18.11077  8.062258  0.000000"
      ]
     },
     "metadata": {},
     "output_type": "display_data"
    },
    {
     "data": {
      "text/html": [
       "<table class=\"dataframe\">\n",
       "<caption>A matrix: 3 × 3 of type dbl</caption>\n",
       "<tbody>\n",
       "\t<tr><td> 0.00000</td><td>10.049876</td><td>18.110770</td></tr>\n",
       "\t<tr><td>10.04988</td><td> 0.000000</td><td> 8.062258</td></tr>\n",
       "\t<tr><td>18.11077</td><td> 8.062258</td><td> 0.000000</td></tr>\n",
       "</tbody>\n",
       "</table>\n"
      ],
      "text/latex": [
       "A matrix: 3 × 3 of type dbl\n",
       "\\begin{tabular}{lll}\n",
       "\t  0.00000 & 10.049876 & 18.110770\\\\\n",
       "\t 10.04988 &  0.000000 &  8.062258\\\\\n",
       "\t 18.11077 &  8.062258 &  0.000000\\\\\n",
       "\\end{tabular}\n"
      ],
      "text/markdown": [
       "\n",
       "A matrix: 3 × 3 of type dbl\n",
       "\n",
       "|  0.00000 | 10.049876 | 18.110770 |\n",
       "| 10.04988 |  0.000000 |  8.062258 |\n",
       "| 18.11077 |  8.062258 |  0.000000 |\n",
       "\n"
      ],
      "text/plain": [
       "     [,1]     [,2]      [,3]     \n",
       "[1,]  0.00000 10.049876 18.110770\n",
       "[2,] 10.04988  0.000000  8.062258\n",
       "[3,] 18.11077  8.062258  0.000000"
      ]
     },
     "metadata": {},
     "output_type": "display_data"
    }
   ],
   "source": [
    "X <- cbind(1:3, c(20, 10, 2))\n",
    "\n",
    "as.matrix(dist(X)) # R built-in function\n",
    "R_dist(X) # R implementation\n",
    "arma_dist(X) # Armadillo implementation"
   ]
  },
  {
   "cell_type": "markdown",
   "metadata": {
    "id": "AuU8n81SbSAo"
   },
   "source": [
    "\n"
   ]
  },
  {
   "cell_type": "code",
   "execution_count": 23,
   "metadata": {
    "colab": {
     "base_uri": "https://localhost:8080/",
     "height": 190
    },
    "executionInfo": {
     "elapsed": 4845,
     "status": "ok",
     "timestamp": 1646408868408,
     "user": {
      "displayName": "Tommaso Rigon",
      "photoUrl": "https://lh3.googleusercontent.com/a-/AOh14GipIA-GFbSE02GMALk8dwNJgy36LN8CARkkbRTFdjg=s64",
      "userId": "15611440935089428693"
     },
     "user_tz": -60
    },
    "id": "hSNfSAF3bSAo",
    "outputId": "c964a572-4bce-46b1-d73d-17e2c93382a0"
   },
   "outputs": [
    {
     "data": {
      "text/html": [
       "<table class=\"dataframe\">\n",
       "<caption>A data.frame: 3 × 4</caption>\n",
       "<thead>\n",
       "\t<tr><th></th><th scope=col>test</th><th scope=col>replications</th><th scope=col>elapsed</th><th scope=col>relative</th></tr>\n",
       "\t<tr><th></th><th scope=col>&lt;chr&gt;</th><th scope=col>&lt;int&gt;</th><th scope=col>&lt;dbl&gt;</th><th scope=col>&lt;dbl&gt;</th></tr>\n",
       "</thead>\n",
       "<tbody>\n",
       "\t<tr><th scope=row>1</th><td>arma_dist</td><td>1000</td><td>0.023</td><td>  1.000</td></tr>\n",
       "\t<tr><th scope=row>3</th><td>dist     </td><td>1000</td><td>0.104</td><td>  4.522</td></tr>\n",
       "\t<tr><th scope=row>2</th><td>R_dist   </td><td>1000</td><td>4.086</td><td>177.652</td></tr>\n",
       "</tbody>\n",
       "</table>\n"
      ],
      "text/latex": [
       "A data.frame: 3 × 4\n",
       "\\begin{tabular}{r|llll}\n",
       "  & test & replications & elapsed & relative\\\\\n",
       "  & <chr> & <int> & <dbl> & <dbl>\\\\\n",
       "\\hline\n",
       "\t1 & arma\\_dist & 1000 & 0.023 &   1.000\\\\\n",
       "\t3 & dist      & 1000 & 0.104 &   4.522\\\\\n",
       "\t2 & R\\_dist    & 1000 & 4.086 & 177.652\\\\\n",
       "\\end{tabular}\n"
      ],
      "text/markdown": [
       "\n",
       "A data.frame: 3 × 4\n",
       "\n",
       "| <!--/--> | test &lt;chr&gt; | replications &lt;int&gt; | elapsed &lt;dbl&gt; | relative &lt;dbl&gt; |\n",
       "|---|---|---|---|---|\n",
       "| 1 | arma_dist | 1000 | 0.023 |   1.000 |\n",
       "| 3 | dist      | 1000 | 0.104 |   4.522 |\n",
       "| 2 | R_dist    | 1000 | 4.086 | 177.652 |\n",
       "\n"
      ],
      "text/plain": [
       "  test      replications elapsed relative\n",
       "1 arma_dist 1000         0.023     1.000 \n",
       "3 dist      1000         0.104     4.522 \n",
       "2 R_dist    1000         4.086   177.652 "
      ]
     },
     "metadata": {},
     "output_type": "display_data"
    }
   ],
   "source": [
    "X <- as.matrix(USArrests) # Example dataset\n",
    "benchmark(\n",
    "  arma_dist = arma_dist(X),\n",
    "  R_dist = R_dist(X),\n",
    "  dist = as.matrix(dist(X)),\n",
    "  columns = c(\"test\", \"replications\", \"elapsed\", \"relative\"),\n",
    "  replications = 1000\n",
    ")"
   ]
  },
  {
   "cell_type": "markdown",
   "metadata": {
    "id": "Xp9lkASbbSAo"
   },
   "source": [
    "### Example 3: OLS\n",
    "\n",
    "In this third example, we illustrate the performance of `RcppArmadillo` for fitting linear models. In first place, we implement two functions in **R** that obtain the OLS estimate $\\hat{\\beta}$ from the design matrix ${\\bf X}$ and the response ${ \\bf y}$.\n"
   ]
  },
  {
   "cell_type": "code",
   "execution_count": 24,
   "metadata": {
    "executionInfo": {
     "elapsed": 210,
     "status": "ok",
     "timestamp": 1646408870847,
     "user": {
      "displayName": "Tommaso Rigon",
      "photoUrl": "https://lh3.googleusercontent.com/a-/AOh14GipIA-GFbSE02GMALk8dwNJgy36LN8CARkkbRTFdjg=s64",
      "userId": "15611440935089428693"
     },
     "user_tz": -60
    },
    "id": "g6tki0o6bSAp"
   },
   "outputs": [],
   "source": [
    "# Using matrix multiplication commands\n",
    "lm_coef1 <- function(X, y) {\n",
    "  solve(t(X) %*% X) %*% t(X) %*% y\n",
    "}\n",
    "\n",
    "# Smarter (no matrix inversion!) and faster implementation\n",
    "lm_coef2 <- function(X, y) {\n",
    "  solve(crossprod(X), crossprod(X, y))\n",
    "}"
   ]
  },
  {
   "cell_type": "markdown",
   "metadata": {
    "id": "ys_6o0u-bSAp"
   },
   "source": [
    "In the following, it is described the corresponding `RcppArmadillo` implementation. The linear system is then solved through the `solve` command directly applied on ${\\bf X}$ and ${ \\bf y}$.\n",
    "\n"
   ]
  },
  {
   "cell_type": "code",
   "execution_count": null,
   "metadata": {
    "id": "9DVPhudebSAp"
   },
   "outputs": [],
   "source": [
    "#include <RcppArmadillo.h>\n",
    "// [[Rcpp::depends(RcppArmadillo)]]\n",
    "using namespace Rcpp;\n",
    "using namespace arma;\n",
    "\n",
    "// [[Rcpp::export]]\n",
    "vec lm_coef3(const mat& X, const vec& y) {\n",
    "  vec coef = solve(X, y);\n",
    "  return(coef);\n",
    "}"
   ]
  },
  {
   "cell_type": "markdown",
   "metadata": {
    "id": "DHwZUPAqbSAq"
   },
   "source": [
    "The next simulation seems to confirm that the `RcppArmadillo` is faster than naive R implementations, but actually slower than `lm_coef2`. This is expected, as the function `solve` of **R** is itself written in C++. The `lm` **R** command is very slow, but it is actually computing many more quantities than just the OLS estimate. \n",
    "\n"
   ]
  },
  {
   "cell_type": "code",
   "execution_count": 26,
   "metadata": {
    "executionInfo": {
     "elapsed": 10672,
     "status": "ok",
     "timestamp": 1646408933142,
     "user": {
      "displayName": "Tommaso Rigon",
      "photoUrl": "https://lh3.googleusercontent.com/a-/AOh14GipIA-GFbSE02GMALk8dwNJgy36LN8CARkkbRTFdjg=s64",
      "userId": "15611440935089428693"
     },
     "user_tz": -60
    },
    "id": "uuHMO83Unjdn"
   },
   "outputs": [],
   "source": [
    "download.file(\"https://tommasorigon.github.io/CompStat/cpp/lm.cpp\", \"lm.cpp\")\n",
    "sourceCpp('lm.cpp')"
   ]
  },
  {
   "cell_type": "code",
   "execution_count": 27,
   "metadata": {
    "colab": {
     "base_uri": "https://localhost:8080/",
     "height": 96
    },
    "executionInfo": {
     "elapsed": 239,
     "status": "ok",
     "timestamp": 1646408938051,
     "user": {
      "displayName": "Tommaso Rigon",
      "photoUrl": "https://lh3.googleusercontent.com/a-/AOh14GipIA-GFbSE02GMALk8dwNJgy36LN8CARkkbRTFdjg=s64",
      "userId": "15611440935089428693"
     },
     "user_tz": -60
    },
    "id": "QIvV8Ds8bSAq",
    "outputId": "b870bdb8-b4c6-4d72-d651-2cebfab3a125"
   },
   "outputs": [
    {
     "data": {
      "text/html": [
       "<table class=\"dataframe\">\n",
       "<caption>A matrix: 2 × 3 of type dbl</caption>\n",
       "<tbody>\n",
       "\t<tr><td>0.9909079</td><td>0.9909079</td><td>0.9909079</td></tr>\n",
       "\t<tr><td>1.0060394</td><td>1.0060394</td><td>1.0060394</td></tr>\n",
       "</tbody>\n",
       "</table>\n"
      ],
      "text/latex": [
       "A matrix: 2 × 3 of type dbl\n",
       "\\begin{tabular}{lll}\n",
       "\t 0.9909079 & 0.9909079 & 0.9909079\\\\\n",
       "\t 1.0060394 & 1.0060394 & 1.0060394\\\\\n",
       "\\end{tabular}\n"
      ],
      "text/markdown": [
       "\n",
       "A matrix: 2 × 3 of type dbl\n",
       "\n",
       "| 0.9909079 | 0.9909079 | 0.9909079 |\n",
       "| 1.0060394 | 1.0060394 | 1.0060394 |\n",
       "\n"
      ],
      "text/plain": [
       "     [,1]      [,2]      [,3]     \n",
       "[1,] 0.9909079 0.9909079 0.9909079\n",
       "[2,] 1.0060394 1.0060394 1.0060394"
      ]
     },
     "metadata": {},
     "output_type": "display_data"
    }
   ],
   "source": [
    "set.seed(123)\n",
    "X <- cbind(1, rnorm(10^4))\n",
    "y <- rowSums(X) + rnorm(10^4)\n",
    "\n",
    "cbind(lm_coef1(X, y), lm_coef2(X, y), lm_coef3(X, y))"
   ]
  },
  {
   "cell_type": "markdown",
   "metadata": {
    "id": "vnEGF3WIbSAq"
   },
   "source": [
    "\n"
   ]
  },
  {
   "cell_type": "code",
   "execution_count": 28,
   "metadata": {
    "colab": {
     "base_uri": "https://localhost:8080/",
     "height": 221
    },
    "executionInfo": {
     "elapsed": 4890,
     "status": "ok",
     "timestamp": 1646408946350,
     "user": {
      "displayName": "Tommaso Rigon",
      "photoUrl": "https://lh3.googleusercontent.com/a-/AOh14GipIA-GFbSE02GMALk8dwNJgy36LN8CARkkbRTFdjg=s64",
      "userId": "15611440935089428693"
     },
     "user_tz": -60
    },
    "id": "bt8A1VeabSAr",
    "outputId": "92cc9df9-57ae-4892-fb79-5544ebff1ba3"
   },
   "outputs": [
    {
     "data": {
      "text/html": [
       "<table class=\"dataframe\">\n",
       "<caption>A data.frame: 4 × 4</caption>\n",
       "<thead>\n",
       "\t<tr><th></th><th scope=col>test</th><th scope=col>replications</th><th scope=col>elapsed</th><th scope=col>relative</th></tr>\n",
       "\t<tr><th></th><th scope=col>&lt;chr&gt;</th><th scope=col>&lt;int&gt;</th><th scope=col>&lt;dbl&gt;</th><th scope=col>&lt;dbl&gt;</th></tr>\n",
       "</thead>\n",
       "<tbody>\n",
       "\t<tr><th scope=row>4</th><td>lm             </td><td>1000</td><td>3.318</td><td>42.538</td></tr>\n",
       "\t<tr><th scope=row>1</th><td>R_matrix_inv   </td><td>1000</td><td>0.525</td><td> 6.731</td></tr>\n",
       "\t<tr><th scope=row>2</th><td>R_no_matrix_inv</td><td>1000</td><td>0.078</td><td> 1.000</td></tr>\n",
       "\t<tr><th scope=row>3</th><td>Rcpp           </td><td>1000</td><td>0.151</td><td> 1.936</td></tr>\n",
       "</tbody>\n",
       "</table>\n"
      ],
      "text/latex": [
       "A data.frame: 4 × 4\n",
       "\\begin{tabular}{r|llll}\n",
       "  & test & replications & elapsed & relative\\\\\n",
       "  & <chr> & <int> & <dbl> & <dbl>\\\\\n",
       "\\hline\n",
       "\t4 & lm              & 1000 & 3.318 & 42.538\\\\\n",
       "\t1 & R\\_matrix\\_inv    & 1000 & 0.525 &  6.731\\\\\n",
       "\t2 & R\\_no\\_matrix\\_inv & 1000 & 0.078 &  1.000\\\\\n",
       "\t3 & Rcpp            & 1000 & 0.151 &  1.936\\\\\n",
       "\\end{tabular}\n"
      ],
      "text/markdown": [
       "\n",
       "A data.frame: 4 × 4\n",
       "\n",
       "| <!--/--> | test &lt;chr&gt; | replications &lt;int&gt; | elapsed &lt;dbl&gt; | relative &lt;dbl&gt; |\n",
       "|---|---|---|---|---|\n",
       "| 4 | lm              | 1000 | 3.318 | 42.538 |\n",
       "| 1 | R_matrix_inv    | 1000 | 0.525 |  6.731 |\n",
       "| 2 | R_no_matrix_inv | 1000 | 0.078 |  1.000 |\n",
       "| 3 | Rcpp            | 1000 | 0.151 |  1.936 |\n",
       "\n"
      ],
      "text/plain": [
       "  test            replications elapsed relative\n",
       "4 lm              1000         3.318   42.538  \n",
       "1 R_matrix_inv    1000         0.525    6.731  \n",
       "2 R_no_matrix_inv 1000         0.078    1.000  \n",
       "3 Rcpp            1000         0.151    1.936  "
      ]
     },
     "metadata": {},
     "output_type": "display_data"
    }
   ],
   "source": [
    "benchmark(R_matrix_inv = lm_coef1(X, y),\n",
    "  R_no_matrix_inv  = lm_coef2(X, y),\n",
    "  Rcpp = lm_coef3(X, y),\n",
    "  lm = coef(lm(y ~ X, data = cars)),\n",
    "  columns = c(\"test\", \"replications\", \"elapsed\", \"relative\"),\n",
    "  replications = 1000\n",
    ")"
   ]
  },
  {
   "cell_type": "markdown",
   "metadata": {
    "id": "7F-aATsqbSAr"
   },
   "source": [
    "### Gibbs sampling example: Gaussian data\n",
    "\n",
    "In the next example, we consider a Gibbs sampling implementation for Gaussian data and conditionally conjugate prior. To make things concrete, we consider the `sleep` dataset available in **R**. \n"
   ]
  },
  {
   "cell_type": "code",
   "execution_count": 29,
   "metadata": {
    "executionInfo": {
     "elapsed": 258,
     "status": "ok",
     "timestamp": 1646408948608,
     "user": {
      "displayName": "Tommaso Rigon",
      "photoUrl": "https://lh3.googleusercontent.com/a-/AOh14GipIA-GFbSE02GMALk8dwNJgy36LN8CARkkbRTFdjg=s64",
      "userId": "15611440935089428693"
     },
     "user_tz": -60
    },
    "id": "BDZLZjnUbSAr"
   },
   "outputs": [],
   "source": [
    "data(sleep)\n",
    "x <- sleep$extra[sleep$group == 1] # Extra hours of sleep for the second group"
   ]
  },
  {
   "cell_type": "markdown",
   "metadata": {
    "id": "NSXs1X_mbSAs"
   },
   "source": [
    "We assume that the observations are such that\n",
    "\n",
    "$$\n",
    "(X_i \\mid \\mu, \\sigma^2) \\overset{\\text{iid}}{\\sim} \\text{N}(\\mu, \\sigma^2), \\qquad i=1,\\dots,n.\n",
    "$$\n",
    "with independent priors $\\mu \\sim \\text{N}(\\mu_\\mu, \\sigma^2_\\mu)$ and $\\sigma^{-2} \\sim \\text{Ga}(a_\\sigma, b_\\sigma)$. The full conditional distributions are the following:\n",
    "\n",
    "$$\n",
    "(\\mu \\mid -) \\sim \\text{N}\\left(\\mu_n, \\sigma^2_n\\right), \\qquad \\mu_n = \\sigma^2_n\\left(\\frac{\\mu_\\mu}{\\sigma^2_\\mu} + \\frac{1}{\\sigma^2}\\sum_{i=1}^nx_i\\right), \\quad \\sigma^2_n = \\left(\\frac{n}{\\sigma^2} + \\frac{1}{\\sigma^2_\\mu}\\right)^{-1}\n",
    "$$\n",
    "and\n",
    "\n",
    "$$\n",
    "(\\sigma^{-2} \\mid -) \\sim \\text{Ga}\\left(a_n, b_n\\right), \\qquad a_n = a_\\sigma + n/2, \\quad b_n = b_\\sigma + \\frac{1}{2}\\sum_{i=1}^n(x_i - \\mu)^2.\n",
    "$$\n",
    "We compare a Gibbs sampling implementation (`gibbs_R` function) with the corresponding `Rcpp` implementation (`gibbs_arma` function). Let us start with the **R** implementation. \n"
   ]
  },
  {
   "cell_type": "code",
   "execution_count": 30,
   "metadata": {
    "executionInfo": {
     "elapsed": 246,
     "status": "ok",
     "timestamp": 1646408952417,
     "user": {
      "displayName": "Tommaso Rigon",
      "photoUrl": "https://lh3.googleusercontent.com/a-/AOh14GipIA-GFbSE02GMALk8dwNJgy36LN8CARkkbRTFdjg=s64",
      "userId": "15611440935089428693"
     },
     "user_tz": -60
    },
    "id": "p2v1aSqdbSAs"
   },
   "outputs": [],
   "source": [
    "gibbs_R <- function(x, mu_mu, sigma2_mu, a_sigma, b_sigma, R, burn_in) {\n",
    "\n",
    "  # Initialization\n",
    "  n <- length(x)\n",
    "  xbar <- mean(x)\n",
    "  out <- matrix(0, R, 2)\n",
    "\n",
    "  # Initial values for mu and sigma\n",
    "  sigma2 <- var(x)\n",
    "  mu <- xbar\n",
    "\n",
    "  for (r in 1:(burn_in + R)) {\n",
    "\n",
    "    # Sample mu\n",
    "    sigma2_n <- 1 / (1 / sigma2_mu + n / sigma2)\n",
    "    mu_n <- sigma2_n * (mu_mu / sigma2_mu + n / sigma2 * xbar)\n",
    "    mu <- rnorm(1, mu_n, sqrt(sigma2_n))\n",
    "\n",
    "    # Sample sigma2\n",
    "    a_n <- a_sigma + 0.5 * n\n",
    "    b_n <- b_sigma + 0.5 * sum((x - mu)^2)\n",
    "    sigma2 <- 1 / rgamma(1, a_n, b_n)\n",
    "\n",
    "    # Store the values after the burn-in period\n",
    "    if (r > burn_in) {\n",
    "      out[r - burn_in, ] <- c(mu, sigma2)\n",
    "    }\n",
    "  }\n",
    "  out\n",
    "}"
   ]
  },
  {
   "cell_type": "markdown",
   "metadata": {
    "id": "IPFhe0HYbSAs"
   },
   "source": [
    "We now \"translate\" the `gibbs_R` function into `Rcpp`. \n",
    "\n"
   ]
  },
  {
   "cell_type": "code",
   "execution_count": null,
   "metadata": {
    "id": "fiNrCNoRbSAt"
   },
   "outputs": [],
   "source": [
    "#include <RcppArmadillo.h>\n",
    "// [[Rcpp::depends(RcppArmadillo)]]\n",
    "using namespace Rcpp;\n",
    "using namespace arma;\n",
    "\n",
    "// [[Rcpp::export]] \n",
    "mat gibbs_arma(vec x, double mu_mu, double sigma2_mu, double a_sigma, double b_sigma, int R, int burn_in){\n",
    "  \n",
    "  // Initialization\n",
    "  double n = x.n_elem;\n",
    "  double xbar = mean(x);\n",
    "  mat out(R,2);\n",
    "\n",
    "  // Initial values for mu and sigma\n",
    "  double sigma2 = var(x);\n",
    "  double mu = mean(x);\n",
    "  \n",
    "  for (int r = 0; r < R + burn_in; r++) {\n",
    "    // Sample mu\n",
    "    double sigma2_n = 1.0 / (1.0 / sigma2_mu + n / sigma2);\n",
    "    double mu_n = sigma2_n * (mu_mu / sigma2_mu + n / sigma2 * xbar);\n",
    "    mu = rnorm(1, mu_n, sqrt(sigma2_n))[0];\n",
    "      \n",
    "   // Sample sigma2\n",
    "    double a_n = a_sigma + 0.5*n;\n",
    "    double b_n = b_sigma + 0.5 * sum(pow(x - mu,2));\n",
    "    // NOTE: rgamma in Rcpp use scale, not rate, as default\n",
    "    sigma2 = 1.0 / rgamma(1, a_n, 1.0 / b_n)[0];\n",
    "  \n",
    "    if (r > burn_in) {\n",
    "      out(r - burn_in, 0) = mu;\n",
    "      out(r - burn_in, 1) = sigma2;\n",
    "    }\n",
    "  }\n",
    "  return out;\n",
    "}"
   ]
  },
  {
   "cell_type": "markdown",
   "metadata": {
    "id": "6n56dUE1bSAt"
   },
   "source": [
    "We can now run the algorithm. We choose `R = 50000` and `burn_in = 5000`. The timing differences between the two implementations are substantial. \n",
    "\n"
   ]
  },
  {
   "cell_type": "code",
   "execution_count": 32,
   "metadata": {
    "executionInfo": {
     "elapsed": 231,
     "status": "ok",
     "timestamp": 1646408992404,
     "user": {
      "displayName": "Tommaso Rigon",
      "photoUrl": "https://lh3.googleusercontent.com/a-/AOh14GipIA-GFbSE02GMALk8dwNJgy36LN8CARkkbRTFdjg=s64",
      "userId": "15611440935089428693"
     },
     "user_tz": -60
    },
    "id": "ZJkqilSgbSAt"
   },
   "outputs": [],
   "source": [
    "R <- 50000\n",
    "burn_in <- 5000"
   ]
  },
  {
   "cell_type": "code",
   "execution_count": 36,
   "metadata": {
    "colab": {
     "base_uri": "https://localhost:8080/"
    },
    "executionInfo": {
     "elapsed": 17814,
     "status": "ok",
     "timestamp": 1646409047305,
     "user": {
      "displayName": "Tommaso Rigon",
      "photoUrl": "https://lh3.googleusercontent.com/a-/AOh14GipIA-GFbSE02GMALk8dwNJgy36LN8CARkkbRTFdjg=s64",
      "userId": "15611440935089428693"
     },
     "user_tz": -60
    },
    "id": "qMwWv1_9nwpM",
    "outputId": "60c91102-0d9f-40e0-f412-2fde7e5f2ad3"
   },
   "outputs": [
    {
     "name": "stderr",
     "output_type": "stream",
     "text": [
      "Installing package into ‘/usr/local/lib/R/site-library’\n",
      "(as ‘lib’ is unspecified)\n",
      "\n",
      "Installing package into ‘/usr/local/lib/R/site-library’\n",
      "(as ‘lib’ is unspecified)\n",
      "\n"
     ]
    }
   ],
   "source": [
    "download.file(\"https://tommasorigon.github.io/CompStat/cpp/gibbs.cpp\", \"gibbs.cpp\")\n",
    "sourceCpp('gibbs.cpp')\n",
    "\n",
    "install.packages(\"tictoc\")\n",
    "install.packages(\"coda\")"
   ]
  },
  {
   "cell_type": "code",
   "execution_count": 35,
   "metadata": {
    "colab": {
     "base_uri": "https://localhost:8080/"
    },
    "executionInfo": {
     "elapsed": 1089,
     "status": "ok",
     "timestamp": 1646409026836,
     "user": {
      "displayName": "Tommaso Rigon",
      "photoUrl": "https://lh3.googleusercontent.com/a-/AOh14GipIA-GFbSE02GMALk8dwNJgy36LN8CARkkbRTFdjg=s64",
      "userId": "15611440935089428693"
     },
     "user_tz": -60
    },
    "id": "dRWLRKnIbSAu",
    "outputId": "3658539d-c95a-4811-9739-6e41076b8568"
   },
   "outputs": [
    {
     "name": "stdout",
     "output_type": "stream",
     "text": [
      "0.707 sec elapsed\n",
      "0.042 sec elapsed\n"
     ]
    }
   ],
   "source": [
    "library(tictoc) # Library for \"timing\" the functions\n",
    "set.seed(123)\n",
    "\n",
    "# Hyperparameter settings\n",
    "mu_mu <- 0\n",
    "sigma2_mu <- 50\n",
    "a_sigma <- b_sigma <- 2\n",
    "\n",
    "tic()\n",
    "fitR <- gibbs_R(x, mu_mu, sigma2_mu, a_sigma, b_sigma, R, burn_in)\n",
    "toc()\n",
    "\n",
    "tic()\n",
    "fitRcpp <- gibbs_arma(x, mu_mu, sigma2_mu, a_sigma, b_sigma, R, burn_in)\n",
    "toc()"
   ]
  },
  {
   "cell_type": "markdown",
   "metadata": {
    "id": "DDV4HG23bSAu"
   },
   "source": [
    "### Checking the convergence\n",
    "\n"
   ]
  },
  {
   "cell_type": "code",
   "execution_count": 37,
   "metadata": {
    "colab": {
     "base_uri": "https://localhost:8080/",
     "height": 437
    },
    "executionInfo": {
     "elapsed": 18925,
     "status": "ok",
     "timestamp": 1646409066224,
     "user": {
      "displayName": "Tommaso Rigon",
      "photoUrl": "https://lh3.googleusercontent.com/a-/AOh14GipIA-GFbSE02GMALk8dwNJgy36LN8CARkkbRTFdjg=s64",
      "userId": "15611440935089428693"
     },
     "user_tz": -60
    },
    "id": "TyoF3IQ0bSAv",
    "outputId": "855f7512-7420-451a-a2da-0d59d3642c56"
   },
   "outputs": [
    {
     "data": {
      "image/png": "[encoded data removed]",
      "text/plain": [
       "Plot with title “Density of var2”"
      ]
     },
     "metadata": {
      "image/png": {
       "height": 420,
       "width": 420
      }
     },
     "output_type": "display_data"
    }
   ],
   "source": [
    "library(coda)\n",
    "fitRcpp <- as.mcmc(fitRcpp) # Convert the matrix into a \"coda\" object\n",
    "plot(fitRcpp)"
   ]
  }
 ],
 "metadata": {
  "anaconda-cloud": "",
  "colab": {
   "collapsed_sections": [],
   "name": "un_A2.ipynb",
   "provenance": []
  },
  "kernelspec": {
   "display_name": "R",
   "language": "R",
   "name": "ir"
  },
  "language_info": {
   "codemirror_mode": "r",
   "file_extension": ".r",
   "mimetype": "text/x-r-source",
   "name": "R",
   "pygments_lexer": "r",
   "version": "4.1.2"
  }
 },
 "nbformat": 4,
 "nbformat_minor": 1
}
